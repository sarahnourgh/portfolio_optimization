{
 "cells": [
  {
   "cell_type": "markdown",
   "metadata": {},
   "source": [
    "# Importing necessary libraries "
   ]
  },
  {
   "cell_type": "code",
   "execution_count": 52,
   "metadata": {},
   "outputs": [],
   "source": [
    "import yfinance as yf #to get stock data\n",
    "import pandas as pd #to handle dataframes\n",
    "import numpy as np #for math\n",
    "import datetime as dt #to handle dates\n",
    "import matplotlib.pyplot as plt #for plotting\n",
    "\n",
    "import riskfolio as rp #riskfolio-Lib to optimize portfolios\n"
   ]
  },
  {
   "cell_type": "markdown",
   "metadata": {},
   "source": [
    "# Getting the data"
   ]
  },
  {
   "cell_type": "markdown",
   "metadata": {},
   "source": [
    "The pandas_datareader library provides a convenient method to fetch historical stock price data from Yahoo Finance"
   ]
  },
  {
   "cell_type": "code",
   "execution_count": 30,
   "metadata": {},
   "outputs": [
    {
     "data": {
      "text/plain": [
       "datetime.datetime(2020, 1, 1, 0, 0)"
      ]
     },
     "execution_count": 30,
     "metadata": {},
     "output_type": "execute_result"
    }
   ],
   "source": [
    "dt.datetime.strptime('2020-01-01', '%Y-%m-%d')"
   ]
  },
  {
   "cell_type": "code",
   "execution_count": 37,
   "metadata": {},
   "outputs": [],
   "source": [
    "#function to get stock data\n",
    "#start_date and end_date must be in the datetime format\n",
    "def getData(ticker, start_date, end_date):\n",
    "    data = yf.download(ticker, start=start_date, end=end_date)\n",
    "    return data"
   ]
  },
  {
   "cell_type": "markdown",
   "metadata": {},
   "source": [
    "We try to create initially a diversified portfolio of stocks of the SP500 from different sectors. So that we can aim to have a return-risk that can be adjustable. We will use the following stocks:\n",
    "- **Technology**: AAPL\n",
    "- **Healthcare**: JNJ\n",
    "- **Consumer Discretionary**: AMZN\n",
    "- **Financials**: JPM\n",
    "- **Industrials**: BA\n",
    "- **Consumer Staples**: WMT\n",
    "- **Energy**: XOM\n",
    "- **Utilities**: NEE\n",
    "- **Real Estate**: AMT\n",
    "- **Materials**: LIN\n",
    "- **Communication Services**: GOOG"
   ]
  },
  {
   "cell_type": "code",
   "execution_count": 20,
   "metadata": {},
   "outputs": [],
   "source": [
    "#Our portfolio\n",
    "stock_list = ['AAPL', 'JNJ', 'AMZN', 'JPM', 'BA', 'WMT', 'XOM', 'NEE', 'AMT', 'LIN', 'GOOG']"
   ]
  },
  {
   "cell_type": "code",
   "execution_count": 46,
   "metadata": {},
   "outputs": [
    {
     "name": "stdout",
     "output_type": "stream",
     "text": [
      "[*********************100%%**********************]  11 of 11 completed\n"
     ]
    }
   ],
   "source": [
    "start_date = dt.datetime.strptime('2022-01-01', '%Y-%m-%d')\n",
    "end_date = dt.datetime.strptime('2022-12-31', '%Y-%m-%d')\n",
    "\n",
    "#Get the data\n",
    "stock_data = getData(stock_list, start_date, end_date)\n",
    "\n",
    "#only keep the adjusted close price column\n",
    "stock_data = stock_data['Adj Close']"
   ]
  },
  {
   "cell_type": "code",
   "execution_count": 50,
   "metadata": {},
   "outputs": [],
   "source": [
    "#Calculate the daily returns\n",
    "stock_returns = stock_data.pct_change()\n",
    "#drop the first row which is NaN\n",
    "stock_returns = stock_returns[1:]"
   ]
  },
  {
   "cell_type": "code",
   "execution_count": 51,
   "metadata": {},
   "outputs": [
    {
     "data": {
      "text/html": [
       "<div>\n",
       "<style scoped>\n",
       "    .dataframe tbody tr th:only-of-type {\n",
       "        vertical-align: middle;\n",
       "    }\n",
       "\n",
       "    .dataframe tbody tr th {\n",
       "        vertical-align: top;\n",
       "    }\n",
       "\n",
       "    .dataframe thead th {\n",
       "        text-align: right;\n",
       "    }\n",
       "</style>\n",
       "<table border=\"1\" class=\"dataframe\">\n",
       "  <thead>\n",
       "    <tr style=\"text-align: right;\">\n",
       "      <th></th>\n",
       "      <th>AAPL</th>\n",
       "      <th>AMT</th>\n",
       "      <th>AMZN</th>\n",
       "      <th>BA</th>\n",
       "      <th>GOOG</th>\n",
       "      <th>JNJ</th>\n",
       "      <th>JPM</th>\n",
       "      <th>LIN</th>\n",
       "      <th>NEE</th>\n",
       "      <th>WMT</th>\n",
       "      <th>XOM</th>\n",
       "    </tr>\n",
       "    <tr>\n",
       "      <th>Date</th>\n",
       "      <th></th>\n",
       "      <th></th>\n",
       "      <th></th>\n",
       "      <th></th>\n",
       "      <th></th>\n",
       "      <th></th>\n",
       "      <th></th>\n",
       "      <th></th>\n",
       "      <th></th>\n",
       "      <th></th>\n",
       "      <th></th>\n",
       "    </tr>\n",
       "  </thead>\n",
       "  <tbody>\n",
       "    <tr>\n",
       "      <th>2022-01-04</th>\n",
       "      <td>-0.012692</td>\n",
       "      <td>-0.012606</td>\n",
       "      <td>-0.016916</td>\n",
       "      <td>0.027759</td>\n",
       "      <td>-0.004536</td>\n",
       "      <td>-0.002682</td>\n",
       "      <td>0.037910</td>\n",
       "      <td>0.018220</td>\n",
       "      <td>-0.010692</td>\n",
       "      <td>-0.018320</td>\n",
       "      <td>0.037614</td>\n",
       "    </tr>\n",
       "    <tr>\n",
       "      <th>2022-01-05</th>\n",
       "      <td>-0.026600</td>\n",
       "      <td>-0.064363</td>\n",
       "      <td>-0.018893</td>\n",
       "      <td>-0.002621</td>\n",
       "      <td>-0.046830</td>\n",
       "      <td>0.006664</td>\n",
       "      <td>-0.018282</td>\n",
       "      <td>0.004640</td>\n",
       "      <td>-0.010476</td>\n",
       "      <td>0.013521</td>\n",
       "      <td>0.012437</td>\n",
       "    </tr>\n",
       "    <tr>\n",
       "      <th>2022-01-06</th>\n",
       "      <td>-0.016693</td>\n",
       "      <td>0.001210</td>\n",
       "      <td>-0.006711</td>\n",
       "      <td>-0.008119</td>\n",
       "      <td>-0.000745</td>\n",
       "      <td>-0.003426</td>\n",
       "      <td>0.010624</td>\n",
       "      <td>-0.024249</td>\n",
       "      <td>-0.044132</td>\n",
       "      <td>-0.002779</td>\n",
       "      <td>0.023521</td>\n",
       "    </tr>\n",
       "    <tr>\n",
       "      <th>2022-01-07</th>\n",
       "      <td>0.000988</td>\n",
       "      <td>0.006380</td>\n",
       "      <td>-0.004288</td>\n",
       "      <td>0.019684</td>\n",
       "      <td>-0.003973</td>\n",
       "      <td>0.013517</td>\n",
       "      <td>0.009908</td>\n",
       "      <td>-0.005118</td>\n",
       "      <td>0.007462</td>\n",
       "      <td>0.009546</td>\n",
       "      <td>0.008197</td>\n",
       "    </tr>\n",
       "    <tr>\n",
       "      <th>2022-01-10</th>\n",
       "      <td>0.000116</td>\n",
       "      <td>-0.008140</td>\n",
       "      <td>-0.006570</td>\n",
       "      <td>-0.028724</td>\n",
       "      <td>0.011456</td>\n",
       "      <td>-0.004944</td>\n",
       "      <td>0.000957</td>\n",
       "      <td>-0.002528</td>\n",
       "      <td>-0.024534</td>\n",
       "      <td>-0.001932</td>\n",
       "      <td>-0.005952</td>\n",
       "    </tr>\n",
       "    <tr>\n",
       "      <th>...</th>\n",
       "      <td>...</td>\n",
       "      <td>...</td>\n",
       "      <td>...</td>\n",
       "      <td>...</td>\n",
       "      <td>...</td>\n",
       "      <td>...</td>\n",
       "      <td>...</td>\n",
       "      <td>...</td>\n",
       "      <td>...</td>\n",
       "      <td>...</td>\n",
       "      <td>...</td>\n",
       "    </tr>\n",
       "    <tr>\n",
       "      <th>2022-12-23</th>\n",
       "      <td>-0.002798</td>\n",
       "      <td>0.008784</td>\n",
       "      <td>0.017425</td>\n",
       "      <td>0.004303</td>\n",
       "      <td>0.017562</td>\n",
       "      <td>0.002542</td>\n",
       "      <td>0.004745</td>\n",
       "      <td>0.005097</td>\n",
       "      <td>0.009959</td>\n",
       "      <td>0.002021</td>\n",
       "      <td>0.026445</td>\n",
       "    </tr>\n",
       "    <tr>\n",
       "      <th>2022-12-27</th>\n",
       "      <td>-0.013878</td>\n",
       "      <td>0.000047</td>\n",
       "      <td>-0.025924</td>\n",
       "      <td>0.001798</td>\n",
       "      <td>-0.020933</td>\n",
       "      <td>-0.000282</td>\n",
       "      <td>0.003504</td>\n",
       "      <td>-0.001154</td>\n",
       "      <td>-0.002020</td>\n",
       "      <td>0.000278</td>\n",
       "      <td>0.013894</td>\n",
       "    </tr>\n",
       "    <tr>\n",
       "      <th>2022-12-28</th>\n",
       "      <td>-0.030685</td>\n",
       "      <td>-0.003793</td>\n",
       "      <td>-0.014692</td>\n",
       "      <td>-0.005385</td>\n",
       "      <td>-0.016718</td>\n",
       "      <td>-0.004340</td>\n",
       "      <td>0.005465</td>\n",
       "      <td>-0.009242</td>\n",
       "      <td>-0.010000</td>\n",
       "      <td>-0.017523</td>\n",
       "      <td>-0.016426</td>\n",
       "    </tr>\n",
       "    <tr>\n",
       "      <th>2022-12-29</th>\n",
       "      <td>0.028324</td>\n",
       "      <td>0.026844</td>\n",
       "      <td>0.028844</td>\n",
       "      <td>0.002813</td>\n",
       "      <td>0.028799</td>\n",
       "      <td>0.005095</td>\n",
       "      <td>0.005738</td>\n",
       "      <td>0.011782</td>\n",
       "      <td>0.011063</td>\n",
       "      <td>0.006087</td>\n",
       "      <td>0.007566</td>\n",
       "    </tr>\n",
       "    <tr>\n",
       "      <th>2022-12-30</th>\n",
       "      <td>0.002469</td>\n",
       "      <td>-0.017985</td>\n",
       "      <td>-0.002138</td>\n",
       "      <td>0.008364</td>\n",
       "      <td>-0.002473</td>\n",
       "      <td>-0.005125</td>\n",
       "      <td>0.006606</td>\n",
       "      <td>-0.010826</td>\n",
       "      <td>-0.005709</td>\n",
       "      <td>-0.002532</td>\n",
       "      <td>0.010073</td>\n",
       "    </tr>\n",
       "  </tbody>\n",
       "</table>\n",
       "<p>250 rows × 11 columns</p>\n",
       "</div>"
      ],
      "text/plain": [
       "                AAPL       AMT      AMZN        BA      GOOG       JNJ  \\\n",
       "Date                                                                     \n",
       "2022-01-04 -0.012692 -0.012606 -0.016916  0.027759 -0.004536 -0.002682   \n",
       "2022-01-05 -0.026600 -0.064363 -0.018893 -0.002621 -0.046830  0.006664   \n",
       "2022-01-06 -0.016693  0.001210 -0.006711 -0.008119 -0.000745 -0.003426   \n",
       "2022-01-07  0.000988  0.006380 -0.004288  0.019684 -0.003973  0.013517   \n",
       "2022-01-10  0.000116 -0.008140 -0.006570 -0.028724  0.011456 -0.004944   \n",
       "...              ...       ...       ...       ...       ...       ...   \n",
       "2022-12-23 -0.002798  0.008784  0.017425  0.004303  0.017562  0.002542   \n",
       "2022-12-27 -0.013878  0.000047 -0.025924  0.001798 -0.020933 -0.000282   \n",
       "2022-12-28 -0.030685 -0.003793 -0.014692 -0.005385 -0.016718 -0.004340   \n",
       "2022-12-29  0.028324  0.026844  0.028844  0.002813  0.028799  0.005095   \n",
       "2022-12-30  0.002469 -0.017985 -0.002138  0.008364 -0.002473 -0.005125   \n",
       "\n",
       "                 JPM       LIN       NEE       WMT       XOM  \n",
       "Date                                                          \n",
       "2022-01-04  0.037910  0.018220 -0.010692 -0.018320  0.037614  \n",
       "2022-01-05 -0.018282  0.004640 -0.010476  0.013521  0.012437  \n",
       "2022-01-06  0.010624 -0.024249 -0.044132 -0.002779  0.023521  \n",
       "2022-01-07  0.009908 -0.005118  0.007462  0.009546  0.008197  \n",
       "2022-01-10  0.000957 -0.002528 -0.024534 -0.001932 -0.005952  \n",
       "...              ...       ...       ...       ...       ...  \n",
       "2022-12-23  0.004745  0.005097  0.009959  0.002021  0.026445  \n",
       "2022-12-27  0.003504 -0.001154 -0.002020  0.000278  0.013894  \n",
       "2022-12-28  0.005465 -0.009242 -0.010000 -0.017523 -0.016426  \n",
       "2022-12-29  0.005738  0.011782  0.011063  0.006087  0.007566  \n",
       "2022-12-30  0.006606 -0.010826 -0.005709 -0.002532  0.010073  \n",
       "\n",
       "[250 rows x 11 columns]"
      ]
     },
     "execution_count": 51,
     "metadata": {},
     "output_type": "execute_result"
    }
   ],
   "source": [
    "stock_returns"
   ]
  },
  {
   "cell_type": "markdown",
   "metadata": {},
   "source": [
    "# Estimating Mean Variance Portfolio\n",
    "Calculated based on Sharpe Ratio"
   ]
  },
  {
   "cell_type": "code",
   "execution_count": 53,
   "metadata": {},
   "outputs": [],
   "source": [
    "#Portfolio object creation\n",
    "portfolio = rp.Portfolio(returns=stock_returns)\n",
    "\n",
    "#optimize the portfolio with the objective to maximize the Sharpe Ratio\n",
    "method_mu = 'hist' #method to estimate expected returns\n",
    "method_cov = 'hist' #method to estimate covariance matrix\n",
    "obj = 'Sharpe' #objective function\n",
    "rf = 0 #risk free rate\n",
    "l = 0 #lower bound for weights\n",
    "#u = 0.5 #upper bound for weights\n",
    "w = None #initial weights\n"
   ]
  },
  {
   "cell_type": "code",
   "execution_count": null,
   "metadata": {},
   "outputs": [],
   "source": []
  }
 ],
 "metadata": {
  "kernelspec": {
   "display_name": "Python 3",
   "language": "python",
   "name": "python3"
  },
  "language_info": {
   "codemirror_mode": {
    "name": "ipython",
    "version": 3
   },
   "file_extension": ".py",
   "mimetype": "text/x-python",
   "name": "python",
   "nbconvert_exporter": "python",
   "pygments_lexer": "ipython3",
   "version": "3.10.8"
  }
 },
 "nbformat": 4,
 "nbformat_minor": 2
}
